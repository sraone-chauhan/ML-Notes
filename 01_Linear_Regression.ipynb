{
 "cells": [
  {
   "cell_type": "markdown",
   "id": "acb513ed-e8e8-46d4-aeba-ef3a6fc186b4",
   "metadata": {},
   "source": [
    "**Linear Regression**"
   ]
  },
  {
   "cell_type": "markdown",
   "id": "c7d15647-38d0-43eb-8f7d-cea65cb9ac13",
   "metadata": {},
   "source": [
    "2. Problem Statement Description\n",
    "⚫ Objective: To build a linear regression model for the prediction of final year grades of students using the available data.\n",
    "⚫ Data Description: This data is adapted from the \"Student Performance Data Set\" available at UCI Machine Learning Repository. This data is of students who pursued a 3-year degree program.\n",
    "⚫ Each row represents the features (attributes) of a particular student. This is a data of 365 stduents, so the data contains 365 rows.\n",
    "⚫ There are 5 data features (columns) - student's score in the first year, score in the second year, study time, number of failures throughout,\n",
    "and the absences recorded. The score in the final year is the target (outcome or response or dependent) variable.\n",
    "⚫ More information is available here: https://archive.ics.uci.edu/ml/datasets/Student+Performance#"
   ]
  },
  {
   "cell_type": "code",
   "execution_count": 1,
   "id": "cbf29e07-ac4c-4081-ae4f-ddf639a4cfe9",
   "metadata": {},
   "outputs": [],
   "source": [
    "import pandas as pd\n",
    "import matplotlib.pyplot as plt\n",
    "import sklearn"
   ]
  },
  {
   "cell_type": "code",
   "execution_count": 3,
   "id": "aadd6d22-4c1d-45e8-9441-f68024180311",
   "metadata": {},
   "outputs": [
    {
     "data": {
      "text/html": [
       "<div>\n",
       "<style scoped>\n",
       "    .dataframe tbody tr th:only-of-type {\n",
       "        vertical-align: middle;\n",
       "    }\n",
       "\n",
       "    .dataframe tbody tr th {\n",
       "        vertical-align: top;\n",
       "    }\n",
       "\n",
       "    .dataframe thead th {\n",
       "        text-align: right;\n",
       "    }\n",
       "</style>\n",
       "<table border=\"1\" class=\"dataframe\">\n",
       "  <thead>\n",
       "    <tr style=\"text-align: right;\">\n",
       "      <th></th>\n",
       "      <th>FirstYrScore</th>\n",
       "      <th>SecondYrScore</th>\n",
       "      <th>StudyTime</th>\n",
       "      <th>Failures</th>\n",
       "      <th>Absences</th>\n",
       "      <th>FinalYrScore</th>\n",
       "    </tr>\n",
       "  </thead>\n",
       "  <tbody>\n",
       "    <tr>\n",
       "      <th>0</th>\n",
       "      <td>6</td>\n",
       "      <td>4</td>\n",
       "      <td>4</td>\n",
       "      <td>0</td>\n",
       "      <td>2</td>\n",
       "      <td>3.0</td>\n",
       "    </tr>\n",
       "    <tr>\n",
       "      <th>1</th>\n",
       "      <td>19</td>\n",
       "      <td>19</td>\n",
       "      <td>6</td>\n",
       "      <td>0</td>\n",
       "      <td>8</td>\n",
       "      <td>12.0</td>\n",
       "    </tr>\n",
       "    <tr>\n",
       "      <th>2</th>\n",
       "      <td>14</td>\n",
       "      <td>15</td>\n",
       "      <td>8</td>\n",
       "      <td>0</td>\n",
       "      <td>5</td>\n",
       "      <td>11.0</td>\n",
       "    </tr>\n",
       "    <tr>\n",
       "      <th>3</th>\n",
       "      <td>10</td>\n",
       "      <td>8</td>\n",
       "      <td>4</td>\n",
       "      <td>1</td>\n",
       "      <td>3</td>\n",
       "      <td>6.0</td>\n",
       "    </tr>\n",
       "    <tr>\n",
       "      <th>4</th>\n",
       "      <td>7</td>\n",
       "      <td>10</td>\n",
       "      <td>6</td>\n",
       "      <td>1</td>\n",
       "      <td>6</td>\n",
       "      <td>5.0</td>\n",
       "    </tr>\n",
       "  </tbody>\n",
       "</table>\n",
       "</div>"
      ],
      "text/plain": [
       "   FirstYrScore  SecondYrScore  StudyTime  Failures  Absences  FinalYrScore\n",
       "0             6              4          4         0         2           3.0\n",
       "1            19             19          6         0         8          12.0\n",
       "2            14             15          8         0         5          11.0\n",
       "3            10              8          4         1         3           6.0\n",
       "4             7             10          6         1         6           5.0"
      ]
     },
     "execution_count": 3,
     "metadata": {},
     "output_type": "execute_result"
    }
   ],
   "source": [
    "data = pd.read_csv(r\"C:\\Users\\sk11351\\Downloads\\StudentPerformance_LRData.csv\")\n",
    "data.head()"
   ]
  },
  {
   "cell_type": "code",
   "execution_count": 4,
   "id": "10381270-3bcf-411f-902d-4d0bccc2473c",
   "metadata": {},
   "outputs": [
    {
     "data": {
      "text/plain": [
       "(5000, 6)"
      ]
     },
     "execution_count": 4,
     "metadata": {},
     "output_type": "execute_result"
    }
   ],
   "source": [
    "data.shape"
   ]
  },
  {
   "cell_type": "code",
   "execution_count": 6,
   "id": "d988ceed-226c-45cc-96a7-e57e65ac01d3",
   "metadata": {},
   "outputs": [
    {
     "name": "stdout",
     "output_type": "stream",
     "text": [
      "<class 'pandas.core.frame.DataFrame'>\n",
      "RangeIndex: 5000 entries, 0 to 4999\n",
      "Data columns (total 6 columns):\n",
      " #   Column         Non-Null Count  Dtype  \n",
      "---  ------         --------------  -----  \n",
      " 0   FirstYrScore   5000 non-null   int64  \n",
      " 1   SecondYrScore  5000 non-null   int64  \n",
      " 2   StudyTime      5000 non-null   int64  \n",
      " 3   Failures       5000 non-null   int64  \n",
      " 4   Absences       5000 non-null   int64  \n",
      " 5   FinalYrScore   5000 non-null   float64\n",
      "dtypes: float64(1), int64(5)\n",
      "memory usage: 234.5 KB\n"
     ]
    }
   ],
   "source": [
    "data.info()"
   ]
  },
  {
   "cell_type": "markdown",
   "id": "ce833b7e-4083-4df2-adb2-c0ab13c9535e",
   "metadata": {},
   "source": [
    "Missing values\n",
    "like NAN, NA or NULL Values"
   ]
  },
  {
   "cell_type": "code",
   "execution_count": 8,
   "id": "f48ded6c-d81b-4214-b76b-49f7fbc9a7c0",
   "metadata": {},
   "outputs": [
    {
     "data": {
      "text/plain": [
       "FirstYrScore     False\n",
       "SecondYrScore    False\n",
       "StudyTime        False\n",
       "Failures         False\n",
       "Absences         False\n",
       "FinalYrScore     False\n",
       "dtype: bool"
      ]
     },
     "execution_count": 8,
     "metadata": {},
     "output_type": "execute_result"
    }
   ],
   "source": [
    "data.isnull().any()     "
   ]
  },
  {
   "cell_type": "code",
   "execution_count": 9,
   "id": "cd246582-d4e8-4df4-87eb-7c4a0b47843f",
   "metadata": {},
   "outputs": [
    {
     "data": {
      "text/plain": [
       "FirstYrScore     0\n",
       "SecondYrScore    0\n",
       "StudyTime        0\n",
       "Failures         0\n",
       "Absences         0\n",
       "FinalYrScore     0\n",
       "dtype: int64"
      ]
     },
     "execution_count": 9,
     "metadata": {},
     "output_type": "execute_result"
    }
   ],
   "source": [
    "data.isnull().sum()"
   ]
  },
  {
   "cell_type": "markdown",
   "id": "452c43f9-ad7f-4f98-8a4a-df5fcff36d86",
   "metadata": {},
   "source": [
    "Handling Missing values\n",
    "\n",
    "Handling missing values\n",
    "          Had there been any missing values, one may handle them with one of the following techniques. Note that this is not an exhaustive list. \n",
    "\n",
    "A. Deletion: You can simply delete the rows or columns with missing values. However, this approach can result in loss of information in the data.\n",
    "\n",
    "B. Imputation: You can replace the missing values with some estimated values. There are several methods of imputation, including:\n",
    "   \n",
    "    1. Mean/Median/Mode imputation: Replace the missing values with the mean, median or mode of the non-missing values in the same\n",
    "column.\n",
    "Example 1: In a dataset of house price prediction, there are missing values for the number of bedrooms in some of the properties. You can replace the missing values with the median number of bedrooms in the non-missing properties.\n",
    "• Example 2: In a dataset of customer satisfaction ratings, there are missing values for the age of some of the customers. You can replace the missing values with the mode age (most common age) in the non-missing customers.\n",
    "     \n",
    "     2. Regression imputation: Predict the missing values using a regression model based on the non-missing values.\n",
    "• Example 1: In a dataset of predictions of employee salaries, there are missing values for the years of experience of some of the employees. You can use a regression model based on the non-missing values of salary and years of experience to predict the missing values.\n",
    "• Example 2: In a dataset of prediction of whether medical insurance claims will be raised or not, there are missing values for the amount claimed for some of the patients. You can use a regression model based on the non-missing values of age, gender, and\n",
    "diagnosis to predict the missing values.\n",
    "\n",
    "     3. K-Nearest Neighbor imputation: Find the k-nearest neighbors of the missing value based on the non-missing values and use their average to replace the missing value.\n",
    "• Example 1: In a dataset of student grades prediction, there are missing values for the final exam score of some of the students. You can find the 5 nearest neighbors of each missing value based on the non-missing values of midterm exam scores, attendance, and participation, and use their average to replace the missing value.\n",
    "Example 2: In a dataset of prediction if the credit card transaction is fraudulent, there are missing values for the amount spent for some of the transactions. You can find the 10 nearest neighbors of each missing value based on the non-missing values of merchant type, time of day, and day of the week, and use their average to replace the missing value.\n",
    "\n",
    "     4. Multiple Imputation: Create multiple imputed datasets by filling in the missing values with different plausible values and then analyze each dataset. This approach is more computationally intensive but can provide more accurate results.\n",
    "\n",
    "Example 1: In a dataset of car sales prediction, there are missing values for the price of some of the cars. You can create 10 imputed datasets by filling in the missing values with different plausible values based on the non-missing values of features - make, model, year, mileage, and condition, and then analyze each dataset to obtain more accurate estimates.\n",
    "\n",
    "Example 2: In a dataset of customer churn (i.e., the percentage of customers that stopped using your company's product or service during a certain time frame), there are missing values for the tenure of some of the customers. You can create 5 imputed datasets by filling in the missing values with different plausible values based on the non-missing values of age, gender, income, and contract type, and then analyze each dataset to obtain more accurate predictions of customer churn.\n",
    "\n",
    "C. Treat missing values as a separate category: If the missing values are not randomly missing, i.e, you can create a new category to represent the missing values. This approach works well for categorical variables.\n",
    "\n",
    "• Example 1: In a dataset of customer feedback, there are missing values for the reason why some customers were dissatisfied with a product. You can treat the missing values as a separate category to indicate that the reason for dissatisfaction is unknown.\n",
    "\n",
    "•Example 2: In a dataset of employee performance ratings, there are missing values for the supervisor's rating of some employees. You can treat the missing values as a separate category to indicate that the supervisor did not provide a rating for that employee.\n",
    "The choice of method depends on the nature and amount of missing data, the type of data, and the purpose of the analysis. It is important to carefully consider the implications of each method and the impact on the analysis before deciding how to handle missing values.\n",
    "\n",
    "For example, in a diabetes prediction dataset, one cannot simply take a mean of Haemoglobin (Hb) of the other patients, as this could have health-critical implications."
   ]
  },
  {
   "cell_type": "code",
   "execution_count": 11,
   "id": "289a550f-911f-44ed-8fe5-52fcd1a17594",
   "metadata": {},
   "outputs": [],
   "source": [
    "#saprate features (independent var) and output (dependednt var)\n",
    "\n",
    "features = data.iloc[:,:-1] # take 1st to 2nd last column\n",
    "prediction = data.iloc[:,-1] #take last column which will act as dependent var\n"
   ]
  },
  {
   "cell_type": "code",
   "execution_count": 13,
   "id": "f8bc8aad-3140-4f5f-9a93-9f8acd0d5650",
   "metadata": {},
   "outputs": [
    {
     "data": {
      "text/html": [
       "<div>\n",
       "<style scoped>\n",
       "    .dataframe tbody tr th:only-of-type {\n",
       "        vertical-align: middle;\n",
       "    }\n",
       "\n",
       "    .dataframe tbody tr th {\n",
       "        vertical-align: top;\n",
       "    }\n",
       "\n",
       "    .dataframe thead th {\n",
       "        text-align: right;\n",
       "    }\n",
       "</style>\n",
       "<table border=\"1\" class=\"dataframe\">\n",
       "  <thead>\n",
       "    <tr style=\"text-align: right;\">\n",
       "      <th></th>\n",
       "      <th>FirstYrScore</th>\n",
       "      <th>SecondYrScore</th>\n",
       "      <th>StudyTime</th>\n",
       "      <th>Failures</th>\n",
       "      <th>Absences</th>\n",
       "    </tr>\n",
       "  </thead>\n",
       "  <tbody>\n",
       "    <tr>\n",
       "      <th>0</th>\n",
       "      <td>6</td>\n",
       "      <td>4</td>\n",
       "      <td>4</td>\n",
       "      <td>0</td>\n",
       "      <td>2</td>\n",
       "    </tr>\n",
       "    <tr>\n",
       "      <th>1</th>\n",
       "      <td>19</td>\n",
       "      <td>19</td>\n",
       "      <td>6</td>\n",
       "      <td>0</td>\n",
       "      <td>8</td>\n",
       "    </tr>\n",
       "    <tr>\n",
       "      <th>2</th>\n",
       "      <td>14</td>\n",
       "      <td>15</td>\n",
       "      <td>8</td>\n",
       "      <td>0</td>\n",
       "      <td>5</td>\n",
       "    </tr>\n",
       "    <tr>\n",
       "      <th>3</th>\n",
       "      <td>10</td>\n",
       "      <td>8</td>\n",
       "      <td>4</td>\n",
       "      <td>1</td>\n",
       "      <td>3</td>\n",
       "    </tr>\n",
       "    <tr>\n",
       "      <th>4</th>\n",
       "      <td>7</td>\n",
       "      <td>10</td>\n",
       "      <td>6</td>\n",
       "      <td>1</td>\n",
       "      <td>6</td>\n",
       "    </tr>\n",
       "  </tbody>\n",
       "</table>\n",
       "</div>"
      ],
      "text/plain": [
       "   FirstYrScore  SecondYrScore  StudyTime  Failures  Absences\n",
       "0             6              4          4         0         2\n",
       "1            19             19          6         0         8\n",
       "2            14             15          8         0         5\n",
       "3            10              8          4         1         3\n",
       "4             7             10          6         1         6"
      ]
     },
     "execution_count": 13,
     "metadata": {},
     "output_type": "execute_result"
    }
   ],
   "source": [
    "features.head()"
   ]
  },
  {
   "cell_type": "code",
   "execution_count": 14,
   "id": "dfa77c12-3ea7-4d3b-af52-15053e0bc1d1",
   "metadata": {},
   "outputs": [
    {
     "data": {
      "text/plain": [
       "0     3.0\n",
       "1    12.0\n",
       "2    11.0\n",
       "3     6.0\n",
       "4     5.0\n",
       "Name: FinalYrScore, dtype: float64"
      ]
     },
     "execution_count": 14,
     "metadata": {},
     "output_type": "execute_result"
    }
   ],
   "source": [
    "prediction.head()"
   ]
  },
  {
   "cell_type": "code",
   "execution_count": 19,
   "id": "df5b480f-af49-4b37-b059-f7f1e72de390",
   "metadata": {},
   "outputs": [],
   "source": [
    "# data is split into features and prediction now we will split the data in to \n",
    "#Training and Test DATA and \n",
    "\n",
    "from sklearn.model_selection import train_test_split\n",
    "X_train, X_test, y_train, Y_test = train_test_split (features, prediction, test_size = 0.2, random_state = 42, shuffle = True)"
   ]
  },
  {
   "cell_type": "code",
   "execution_count": 21,
   "id": "910895e6-3892-43c0-a1d2-1d6f4d16aa32",
   "metadata": {},
   "outputs": [],
   "source": [
    "##Perform Eploratory Data Analysis (EDA)"
   ]
  },
  {
   "cell_type": "markdown",
   "id": "d0a2a7e8-e0dc-4873-a050-ff73c8a7a508",
   "metadata": {},
   "source": [
    "all the analysis is performed n the train dataset only.since test data is not supposed to be used during training it is kept saprate and is not used for any purpose, while we are building the model. in other word, for model building, we assume that test data is not avalible to us"
   ]
  },
  {
   "cell_type": "code",
   "execution_count": 24,
   "id": "161befa5-3180-4a8c-ade9-abe2cb94d9b5",
   "metadata": {},
   "outputs": [
    {
     "data": {
      "text/html": [
       "<div>\n",
       "<style scoped>\n",
       "    .dataframe tbody tr th:only-of-type {\n",
       "        vertical-align: middle;\n",
       "    }\n",
       "\n",
       "    .dataframe tbody tr th {\n",
       "        vertical-align: top;\n",
       "    }\n",
       "\n",
       "    .dataframe thead th {\n",
       "        text-align: right;\n",
       "    }\n",
       "</style>\n",
       "<table border=\"1\" class=\"dataframe\">\n",
       "  <thead>\n",
       "    <tr style=\"text-align: right;\">\n",
       "      <th></th>\n",
       "      <th>FirstYrScore</th>\n",
       "      <th>SecondYrScore</th>\n",
       "      <th>StudyTime</th>\n",
       "      <th>Failures</th>\n",
       "      <th>Absences</th>\n",
       "      <th>FinalYrScore</th>\n",
       "    </tr>\n",
       "  </thead>\n",
       "  <tbody>\n",
       "    <tr>\n",
       "      <th>4227</th>\n",
       "      <td>1</td>\n",
       "      <td>2</td>\n",
       "      <td>2</td>\n",
       "      <td>0</td>\n",
       "      <td>2</td>\n",
       "      <td>2.0</td>\n",
       "    </tr>\n",
       "    <tr>\n",
       "      <th>4676</th>\n",
       "      <td>12</td>\n",
       "      <td>15</td>\n",
       "      <td>8</td>\n",
       "      <td>1</td>\n",
       "      <td>3</td>\n",
       "      <td>7.0</td>\n",
       "    </tr>\n",
       "    <tr>\n",
       "      <th>800</th>\n",
       "      <td>12</td>\n",
       "      <td>9</td>\n",
       "      <td>8</td>\n",
       "      <td>0</td>\n",
       "      <td>2</td>\n",
       "      <td>5.0</td>\n",
       "    </tr>\n",
       "    <tr>\n",
       "      <th>3671</th>\n",
       "      <td>4</td>\n",
       "      <td>6</td>\n",
       "      <td>2</td>\n",
       "      <td>0</td>\n",
       "      <td>3</td>\n",
       "      <td>5.0</td>\n",
       "    </tr>\n",
       "    <tr>\n",
       "      <th>4193</th>\n",
       "      <td>9</td>\n",
       "      <td>12</td>\n",
       "      <td>6</td>\n",
       "      <td>0</td>\n",
       "      <td>1</td>\n",
       "      <td>7.0</td>\n",
       "    </tr>\n",
       "  </tbody>\n",
       "</table>\n",
       "</div>"
      ],
      "text/plain": [
       "      FirstYrScore  SecondYrScore  StudyTime  Failures  Absences  FinalYrScore\n",
       "4227             1              2          2         0         2           2.0\n",
       "4676            12             15          8         1         3           7.0\n",
       "800             12              9          8         0         2           5.0\n",
       "3671             4              6          2         0         3           5.0\n",
       "4193             9             12          6         0         1           7.0"
      ]
     },
     "execution_count": 24,
     "metadata": {},
     "output_type": "execute_result"
    }
   ],
   "source": [
    "Train_data = pd.concat([X_train, y_train], axis = 'columns',names = ['FirstYrScore',\t'SecondYrScore',\t'StudyTime',\t'Failures',\t'Absences'])\n",
    "Train_data.head()"
   ]
  },
  {
   "cell_type": "markdown",
   "id": "d5ad1b0f-b666-4596-b3f7-3fceeda5f322",
   "metadata": {},
   "source": [
    "\n",
    "Summary Statistics\n",
    "The summary statistics tell us about the distribution (mean, standard deviation, etc.) of all the numerical features in the data. These are particularly helpful in the following ways.\n",
    "⚫ Understanding the distribution of data: Summary statistics help understand the central tendency and variability of the data. For example, if the mean and median are close, it indicates that the distribution is relatively symmetrical. On the other hand, if the mean is much higher or lower than the median, it indicates that the distribution is skewed.\n",
    "⚫ Identifying missing values: Summary statistics can help identify if there are any missing values in the dataset. By looking at the count of non-null values for each feature, one can determine if there are any missing values that need to be handled before building a model. Detecting Outliers: Outliers can significantly impact the performance of a machine learning model. Summary statistics such as minimum and maximum values, as well as the range and quartile ranges, can help to identify potential outliers.\n",
    "⚫ Feature selection: Summary statistics car help in selecting the most relevant features for an ML model. By analyzing the variance of each feature, one can identify which features have low variability and may not be useful in predicting the target variable.\n",
    "⚫ Data preprocessing: Summary statistics can help in determining if data normalization or scaling is required. If the range of values for\n",
    "different features varies significantly, then normalization or scaling may be required to bring the data to a similar range, which can improve the performance of the ML model."
   ]
  },
  {
   "cell_type": "code",
   "execution_count": 25,
   "id": "154f933c-b73a-444a-93b3-385cc81137d6",
   "metadata": {},
   "outputs": [
    {
     "data": {
      "text/html": [
       "<div>\n",
       "<style scoped>\n",
       "    .dataframe tbody tr th:only-of-type {\n",
       "        vertical-align: middle;\n",
       "    }\n",
       "\n",
       "    .dataframe tbody tr th {\n",
       "        vertical-align: top;\n",
       "    }\n",
       "\n",
       "    .dataframe thead th {\n",
       "        text-align: right;\n",
       "    }\n",
       "</style>\n",
       "<table border=\"1\" class=\"dataframe\">\n",
       "  <thead>\n",
       "    <tr style=\"text-align: right;\">\n",
       "      <th></th>\n",
       "      <th>FirstYrScore</th>\n",
       "      <th>SecondYrScore</th>\n",
       "      <th>StudyTime</th>\n",
       "      <th>Failures</th>\n",
       "      <th>Absences</th>\n",
       "      <th>FinalYrScore</th>\n",
       "    </tr>\n",
       "  </thead>\n",
       "  <tbody>\n",
       "    <tr>\n",
       "      <th>count</th>\n",
       "      <td>4000.000000</td>\n",
       "      <td>4000.000000</td>\n",
       "      <td>4000.000000</td>\n",
       "      <td>4000.000000</td>\n",
       "      <td>4000.000000</td>\n",
       "      <td>4000.000000</td>\n",
       "    </tr>\n",
       "    <tr>\n",
       "      <th>mean</th>\n",
       "      <td>9.986500</td>\n",
       "      <td>9.984000</td>\n",
       "      <td>4.986500</td>\n",
       "      <td>0.581750</td>\n",
       "      <td>2.994000</td>\n",
       "      <td>6.245250</td>\n",
       "    </tr>\n",
       "    <tr>\n",
       "      <th>std</th>\n",
       "      <td>6.098534</td>\n",
       "      <td>6.198778</td>\n",
       "      <td>2.268282</td>\n",
       "      <td>0.851762</td>\n",
       "      <td>1.751351</td>\n",
       "      <td>3.755347</td>\n",
       "    </tr>\n",
       "    <tr>\n",
       "      <th>min</th>\n",
       "      <td>0.000000</td>\n",
       "      <td>0.000000</td>\n",
       "      <td>2.000000</td>\n",
       "      <td>0.000000</td>\n",
       "      <td>0.000000</td>\n",
       "      <td>0.000000</td>\n",
       "    </tr>\n",
       "    <tr>\n",
       "      <th>25%</th>\n",
       "      <td>5.000000</td>\n",
       "      <td>4.750000</td>\n",
       "      <td>2.000000</td>\n",
       "      <td>0.000000</td>\n",
       "      <td>2.000000</td>\n",
       "      <td>3.000000</td>\n",
       "    </tr>\n",
       "    <tr>\n",
       "      <th>50%</th>\n",
       "      <td>10.000000</td>\n",
       "      <td>10.000000</td>\n",
       "      <td>6.000000</td>\n",
       "      <td>0.000000</td>\n",
       "      <td>3.000000</td>\n",
       "      <td>6.000000</td>\n",
       "    </tr>\n",
       "    <tr>\n",
       "      <th>75%</th>\n",
       "      <td>15.000000</td>\n",
       "      <td>15.000000</td>\n",
       "      <td>8.000000</td>\n",
       "      <td>1.000000</td>\n",
       "      <td>4.000000</td>\n",
       "      <td>9.000000</td>\n",
       "    </tr>\n",
       "    <tr>\n",
       "      <th>max</th>\n",
       "      <td>20.000000</td>\n",
       "      <td>20.000000</td>\n",
       "      <td>8.000000</td>\n",
       "      <td>3.000000</td>\n",
       "      <td>12.000000</td>\n",
       "      <td>15.000000</td>\n",
       "    </tr>\n",
       "  </tbody>\n",
       "</table>\n",
       "</div>"
      ],
      "text/plain": [
       "       FirstYrScore  SecondYrScore    StudyTime     Failures     Absences  \\\n",
       "count   4000.000000    4000.000000  4000.000000  4000.000000  4000.000000   \n",
       "mean       9.986500       9.984000     4.986500     0.581750     2.994000   \n",
       "std        6.098534       6.198778     2.268282     0.851762     1.751351   \n",
       "min        0.000000       0.000000     2.000000     0.000000     0.000000   \n",
       "25%        5.000000       4.750000     2.000000     0.000000     2.000000   \n",
       "50%       10.000000      10.000000     6.000000     0.000000     3.000000   \n",
       "75%       15.000000      15.000000     8.000000     1.000000     4.000000   \n",
       "max       20.000000      20.000000     8.000000     3.000000    12.000000   \n",
       "\n",
       "       FinalYrScore  \n",
       "count   4000.000000  \n",
       "mean       6.245250  \n",
       "std        3.755347  \n",
       "min        0.000000  \n",
       "25%        3.000000  \n",
       "50%        6.000000  \n",
       "75%        9.000000  \n",
       "max       15.000000  "
      ]
     },
     "execution_count": 25,
     "metadata": {},
     "output_type": "execute_result"
    }
   ],
   "source": [
    "Train_data.describe()"
   ]
  },
  {
   "cell_type": "code",
   "execution_count": null,
   "id": "2871ace3-0b8c-4512-8208-44be0a9b01bc",
   "metadata": {},
   "outputs": [],
   "source": [
    "**Correlation Analysis**"
   ]
  },
  {
   "cell_type": "markdown",
   "id": "51a8d096-d840-4930-8826-6a2c17488d02",
   "metadata": {},
   "source": [
    "\n",
    "Correlation Analysis\n",
    "The correlation coefficients are calculated between the features and the target variable to identify which features are strongly correlated with the target variable.\n",
    "Here, this can help identify which variables are most important in predicting the final year scores."
   ]
  },
  {
   "cell_type": "code",
   "execution_count": 29,
   "id": "e8e49260-da74-417b-b674-89d545f57444",
   "metadata": {},
   "outputs": [
    {
     "data": {
      "text/html": [
       "<div>\n",
       "<style scoped>\n",
       "    .dataframe tbody tr th:only-of-type {\n",
       "        vertical-align: middle;\n",
       "    }\n",
       "\n",
       "    .dataframe tbody tr th {\n",
       "        vertical-align: top;\n",
       "    }\n",
       "\n",
       "    .dataframe thead th {\n",
       "        text-align: right;\n",
       "    }\n",
       "</style>\n",
       "<table border=\"1\" class=\"dataframe\">\n",
       "  <thead>\n",
       "    <tr style=\"text-align: right;\">\n",
       "      <th></th>\n",
       "      <th>FirstYrScore</th>\n",
       "      <th>SecondYrScore</th>\n",
       "      <th>StudyTime</th>\n",
       "      <th>Failures</th>\n",
       "      <th>Absences</th>\n",
       "      <th>FinalYrScore</th>\n",
       "    </tr>\n",
       "  </thead>\n",
       "  <tbody>\n",
       "    <tr>\n",
       "      <th>FirstYrScore</th>\n",
       "      <td>1.000000</td>\n",
       "      <td>0.951799</td>\n",
       "      <td>-0.001532</td>\n",
       "      <td>0.022838</td>\n",
       "      <td>0.008351</td>\n",
       "      <td>0.948406</td>\n",
       "    </tr>\n",
       "    <tr>\n",
       "      <th>SecondYrScore</th>\n",
       "      <td>0.951799</td>\n",
       "      <td>1.000000</td>\n",
       "      <td>0.000376</td>\n",
       "      <td>0.020518</td>\n",
       "      <td>0.007454</td>\n",
       "      <td>0.948778</td>\n",
       "    </tr>\n",
       "    <tr>\n",
       "      <th>StudyTime</th>\n",
       "      <td>-0.001532</td>\n",
       "      <td>0.000376</td>\n",
       "      <td>1.000000</td>\n",
       "      <td>-0.006418</td>\n",
       "      <td>0.009799</td>\n",
       "      <td>0.056489</td>\n",
       "    </tr>\n",
       "    <tr>\n",
       "      <th>Failures</th>\n",
       "      <td>0.022838</td>\n",
       "      <td>0.020518</td>\n",
       "      <td>-0.006418</td>\n",
       "      <td>1.000000</td>\n",
       "      <td>-0.022804</td>\n",
       "      <td>-0.019677</td>\n",
       "    </tr>\n",
       "    <tr>\n",
       "      <th>Absences</th>\n",
       "      <td>0.008351</td>\n",
       "      <td>0.007454</td>\n",
       "      <td>0.009799</td>\n",
       "      <td>-0.022804</td>\n",
       "      <td>1.000000</td>\n",
       "      <td>-0.010536</td>\n",
       "    </tr>\n",
       "    <tr>\n",
       "      <th>FinalYrScore</th>\n",
       "      <td>0.948406</td>\n",
       "      <td>0.948778</td>\n",
       "      <td>0.056489</td>\n",
       "      <td>-0.019677</td>\n",
       "      <td>-0.010536</td>\n",
       "      <td>1.000000</td>\n",
       "    </tr>\n",
       "  </tbody>\n",
       "</table>\n",
       "</div>"
      ],
      "text/plain": [
       "               FirstYrScore  SecondYrScore  StudyTime  Failures  Absences  \\\n",
       "FirstYrScore       1.000000       0.951799  -0.001532  0.022838  0.008351   \n",
       "SecondYrScore      0.951799       1.000000   0.000376  0.020518  0.007454   \n",
       "StudyTime         -0.001532       0.000376   1.000000 -0.006418  0.009799   \n",
       "Failures           0.022838       0.020518  -0.006418  1.000000 -0.022804   \n",
       "Absences           0.008351       0.007454   0.009799 -0.022804  1.000000   \n",
       "FinalYrScore       0.948406       0.948778   0.056489 -0.019677 -0.010536   \n",
       "\n",
       "               FinalYrScore  \n",
       "FirstYrScore       0.948406  \n",
       "SecondYrScore      0.948778  \n",
       "StudyTime          0.056489  \n",
       "Failures          -0.019677  \n",
       "Absences          -0.010536  \n",
       "FinalYrScore       1.000000  "
      ]
     },
     "execution_count": 29,
     "metadata": {},
     "output_type": "execute_result"
    }
   ],
   "source": [
    "Corr_mat = Train_data.corr(method = 'pearson') # pearson correlation analysis is used\n",
    "Corr_mat"
   ]
  },
  {
   "cell_type": "code",
   "execution_count": 30,
   "id": "5ab9a7a7-c8c0-4308-a54f-2cfc45e73fe8",
   "metadata": {},
   "outputs": [
    {
     "data": {
      "image/png": "[encoded data removed]",
      "text/plain": [
       "<Figure size 480x480 with 2 Axes>"
      ]
     },
     "metadata": {},
     "output_type": "display_data"
    }
   ],
   "source": [
    "plt.matshow(Corr_mat)\n",
    "plt.xticks(range(len(Corr_mat)),Corr_mat.columns,rotation = 90)\n",
    "plt.yticks(range(len(Corr_mat)),Corr_mat.columns)\n",
    "plt.colorbar()\n",
    "plt.show()\n"
   ]
  },
  {
   "cell_type": "code",
   "execution_count": null,
   "id": "bffa3b52-381a-4cdf-b4ba-a2075c7639d3",
   "metadata": {},
   "outputs": [],
   "source": [
    "Scatter plot"
   ]
  },
  {
   "cell_type": "code",
   "execution_count": 31,
   "id": "da764b91-b4e2-4a9f-bf24-d589f53dac98",
   "metadata": {},
   "outputs": [
    {
     "data": {
      "text/plain": [
       "[]"
      ]
     },
     "execution_count": 31,
     "metadata": {},
     "output_type": "execute_result"
    },
    {
     "data": {
      "image/png": "[encoded data removed]",
      "text/plain": [
       "<Figure size 640x480 with 1 Axes>"
      ]
     },
     "metadata": {},
     "output_type": "display_data"
    }
   ],
   "source": [
    "plt.scatter(X_train['FirstYrScore'], y_train)\n",
    "plt.title(\"FinalYrScore vs FirstYrScore\")\n",
    "plt.xlabel('FirstYrScore')\n",
    "plt.ylabel('FinalYrScore')\n",
    "plt.plot()"
   ]
  },
  {
   "cell_type": "code",
   "execution_count": 32,
   "id": "74dae53e-c07a-4b6b-b8ca-452e02a0b00e",
   "metadata": {},
   "outputs": [
    {
     "data": {
      "text/plain": [
       "[]"
      ]
     },
     "execution_count": 32,
     "metadata": {},
     "output_type": "execute_result"
    },
    {
     "data": {
      "image/png": "[encoded data removed]",
      "text/plain": [
       "<Figure size 640x480 with 1 Axes>"
      ]
     },
     "metadata": {},
     "output_type": "display_data"
    }
   ],
   "source": [
    "\n",
    "plt.scatter(X_train['SecondYrScore'], y_train)\n",
    "plt.title(\"FinalYrScore vs SecondYrScore\")\n",
    "plt.xlabel('SecondYrScore')\n",
    "plt.ylabel('FinalYrScore')\n",
    "plt.plot()"
   ]
  },
  {
   "cell_type": "code",
   "execution_count": 33,
   "id": "49eeeeca-00cc-479c-a9c3-026f458ac7bb",
   "metadata": {},
   "outputs": [
    {
     "data": {
      "text/plain": [
       "[]"
      ]
     },
     "execution_count": 33,
     "metadata": {},
     "output_type": "execute_result"
    },
    {
     "data": {
      "image/png": "[encoded data removed]",
      "text/plain": [
       "<Figure size 640x480 with 1 Axes>"
      ]
     },
     "metadata": {},
     "output_type": "display_data"
    }
   ],
   "source": [
    "plt.scatter(X_train['StudyTime'], y_train)\n",
    "plt.title(\"FinalYrScore vs StudyTime\")\n",
    "plt.xlabel('StudyTime')\n",
    "plt.ylabel('FinalYrScore')\n",
    "plt.plot()"
   ]
  },
  {
   "cell_type": "code",
   "execution_count": 34,
   "id": "6fe1ca2f-7da5-47bd-82e8-09160720baa0",
   "metadata": {},
   "outputs": [
    {
     "data": {
      "text/plain": [
       "[]"
      ]
     },
     "execution_count": 34,
     "metadata": {},
     "output_type": "execute_result"
    },
    {
     "data": {
      "image/png": "[encoded data removed]",
      "text/plain": [
       "<Figure size 640x480 with 1 Axes>"
      ]
     },
     "metadata": {},
     "output_type": "display_data"
    }
   ],
   "source": [
    "plt.scatter(X_train['Failures'], y_train)\n",
    "plt.title(\"FinalYrScore vs Failures\")\n",
    "plt.xlabel('Failures')\n",
    "plt.ylabel('FinalYrScore')\n",
    "plt.plot()"
   ]
  },
  {
   "cell_type": "code",
   "execution_count": 35,
   "id": "12008232-3256-40e4-837c-33528b645f8e",
   "metadata": {},
   "outputs": [
    {
     "data": {
      "text/plain": [
       "[]"
      ]
     },
     "execution_count": 35,
     "metadata": {},
     "output_type": "execute_result"
    },
    {
     "data": {
      "image/png": "[encoded data removed]",
      "text/plain": [
       "<Figure size 640x480 with 1 Axes>"
      ]
     },
     "metadata": {},
     "output_type": "display_data"
    }
   ],
   "source": [
    "plt.scatter(X_train['Absences'], y_train)\n",
    "plt.title(\"FinalYrScore vs Absences\")\n",
    "plt.xlabel('Absences')\n",
    "plt.ylabel('FinalYrScore')\n",
    "plt.plot()"
   ]
  },
  {
   "cell_type": "markdown",
   "id": "4a14b5b7-71cd-4edb-80c4-44f8277b314d",
   "metadata": {},
   "source": [
    "**Model building and Training and Testing**"
   ]
  },
  {
   "cell_type": "code",
   "execution_count": 36,
   "id": "a0d05489-d12f-4a4d-be32-206d1f7aa43a",
   "metadata": {},
   "outputs": [],
   "source": [
    "from sklearn.linear_model import LinearRegression\n",
    "model = LinearRegression()\n",
    "\n",
    "model.fit(X_train, y_train)\n",
    "y_pred_train = model.predict(X_train)\n",
    "y_pred = model.predict(X_test)"
   ]
  },
  {
   "cell_type": "raw",
   "id": "f6e27aa4-b6bb-4600-ac65-eaa31bfffbb9",
   "metadata": {},
   "source": [
    "**Result and Interpretation**"
   ]
  },
  {
   "cell_type": "code",
   "execution_count": 39,
   "id": "5cd28c24-462d-4a46-8b08-407bd04dec99",
   "metadata": {},
   "outputs": [
    {
     "name": "stdout",
     "output_type": "stream",
     "text": [
      "Evaluation Metrics : Train Data\n",
      "mean_absolute_error 0.8063745930563395\n",
      "mean_squared_error 1.0246655734082255\n",
      "r2_score 0.9273240564106494\n"
     ]
    }
   ],
   "source": [
    "from sklearn.metrics import mean_squared_error, mean_absolute_error, r2_score\n",
    "mse_train = mean_squared_error(y_train, y_pred_train)\n",
    "mae_train = mean_absolute_error(y_train, y_pred_train)\n",
    "r2_train  = r2_score(y_train, y_pred_train)\n",
    "\n",
    "print(\"Evaluation Metrics : Train Data\")\n",
    "print(\"mean_absolute_error\",mae_train)\n",
    "print(\"mean_squared_error\",mse_train)\n",
    "print(\"r2_score\",r2_train)"
   ]
  },
  {
   "cell_type": "code",
   "execution_count": 41,
   "id": "5b37cfd7-2b8a-4d2a-8101-a7246c8fa5de",
   "metadata": {},
   "outputs": [
    {
     "name": "stdout",
     "output_type": "stream",
     "text": [
      "Evaluation Metrics : Test Data\n",
      "mean_absolute_error 0.8222527266802804\n",
      "mean_squared_error 1.0645609100242177\n",
      "r2_score 0.9242598174311255\n"
     ]
    }
   ],
   "source": [
    "mse_test = mean_squared_error(Y_test, y_pred)\n",
    "mae_test = mean_absolute_error(Y_test, y_pred)\n",
    "r2_test  = r2_score(Y_test, y_pred)\n",
    "\n",
    "print(\"Evaluation Metrics : Test Data\")\n",
    "print(\"mean_absolute_error\",mae_test)\n",
    "print(\"mean_squared_error\",mse_test)\n",
    "print(\"r2_score\",r2_test)"
   ]
  },
  {
   "cell_type": "code",
   "execution_count": 44,
   "id": "963193d1-cda8-4ccd-8852-845a29d1be70",
   "metadata": {},
   "outputs": [
    {
     "name": "stdout",
     "output_type": "stream",
     "text": [
      "model coefficient:  [ 0.29864498  0.29572015  0.09433396 -0.18011675 -0.04227357]\n",
      "correspoinding features ['FirstYrScore' 'SecondYrScore' 'StudyTime' 'Failures' 'Absences']\n"
     ]
    }
   ],
   "source": [
    "print(\"model coefficient: \", model.coef_)\n",
    "print(\"correspoinding features\", features.columns.values)"
   ]
  },
  {
   "cell_type": "markdown",
   "id": "a0f17c05-e60a-470b-8db0-9c550ad2e571",
   "metadata": {},
   "source": [
    "These model coefficients come from a linear regression model trained to predict a student's FinalYrScore based on five input features. Here's what each coefficient means:\n",
    "\n",
    "📘 Linear Regression Recap\n",
    "The model equation is:\n",
    "\n",
    "FinalYrScore = b0 + b1 * FirstYrScore + b2 * SecondYrScore + b3 * StudyTime + b4 * Failures + b5 * Absences\n",
    "Where:\n",
    "\n",
    "b0 is the intercept (not shown in your output),*\n",
    "\n",
    "b1 to b5 are the coefficients for the respective features.\n",
    "\n",
    "📊 Coefficients Interpretation\n",
    "Feature\tCoefficient Value\tMeaning\n",
    "FirstYrScore\t+0.2986\tA 1-point increase in first-year score is associated with a +0.30 increase in final-year score, keeping other factors constant.\n",
    "SecondYrScore\t+0.2957\tA 1-point increase in second-year score contributes almost the same (+0.30) to the final-year score.\n",
    "StudyTime\t+0.0943\tFor each extra unit (probably in hours) of study time, the final-year score increases by ~0.09.\n",
    "Failures\t−0.1801\tEach past failure decreases the final-year score by ~0.18 points.\n",
    "Absences\t−0.0423\tEach absence slightly reduces the final-year score by ~0.042 points.\n",
    "\n",
    "💡 Summary:\n",
    "✅ FirstYrScore and SecondYrScore are the strongest positive predictors.\n",
    "\n",
    "✅ StudyTime helps, but less so.\n",
    "\n",
    "❌ Failures and Absences negatively impact the score.\n",
    "\n",
    "This shows that academic performance in earlier years matters most, followed by effort (study time), and penalties come from failing and being absent.\n"
   ]
  }
 ],
 "metadata": {
  "kernelspec": {
   "display_name": "Python 3 (ipykernel)",
   "language": "python",
   "name": "python3"
  },
  "language_info": {
   "codemirror_mode": {
    "name": "ipython",
    "version": 3
   },
   "file_extension": ".py",
   "mimetype": "text/x-python",
   "name": "python",
   "nbconvert_exporter": "python",
   "pygments_lexer": "ipython3",
   "version": "3.12.7"
  }
 },
 "nbformat": 4,
 "nbformat_minor": 5
}
